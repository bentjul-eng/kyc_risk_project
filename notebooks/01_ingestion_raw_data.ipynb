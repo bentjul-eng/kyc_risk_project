{
 "cells": [
  {
   "cell_type": "code",
   "execution_count": 0,
   "metadata": {
    "application/vnd.databricks.v1+cell": {
     "cellMetadata": {
      "byteLimit": 2048000,
      "rowLimit": 10000
     },
     "inputWidgets": {},
     "nuid": "716be63e-305e-44aa-9f8e-385631f7776b",
     "showTitle": false,
     "tableResultSettingsMap": {},
     "title": ""
    }
   },
   "outputs": [],
   "source": [
    "# Databricks notebook source\n",
    "# 01_ingestion_uc.py - Ingestion with Unity Catalog (production-ready version)\n",
    "\n",
    "from pyspark.sql.types import StructType, StructField, IntegerType, StringType, DateType, DecimalType\n",
    "import random\n",
    "from datetime import datetime, timedelta\n",
    "\n",
    "# -----------------------------------------------\n",
    "# Step 1: Define catalog and schema via widgets\n",
    "# -----------------------------------------------\n",
    "dbutils.widgets.text(\"catalog\", \"governance_risk\")\n",
    "dbutils.widgets.text(\"schema\", \"kyc_project\")\n",
    "\n",
    "catalog = dbutils.widgets.get(\"catalog\")\n",
    "schema = dbutils.widgets.get(\"schema\")\n",
    "\n",
    "print(f\"Using catalog: {catalog}, schema: {schema}\")\n",
    "\n",
    "# --- Sample data ---\n",
    "first_names = [\n",
    "    'Carlos', 'Sofia', 'Lucas', 'Isabela', 'Gabriel',\n",
    "    'Laura', 'Mateus', 'Júlia', 'Pedro', 'Beatriz',\n",
    "    'John', 'Maria', 'James', 'Patricia', 'Robert',\n",
    "    'Wei', 'Li', 'Jing', 'Yang', 'Wei',\n",
    "    'Fatima', 'Mohammed', 'Ahmed', 'Aisha'\n",
    "]\n",
    "\n",
    "last_names = [\n",
    "    '', '', '', '', '',\n",
    "    'C.', 'G.', 'S.', 'R.', 'S.',\n",
    "    'S.', 'G.', 'J.', 'B.', 'J.',\n",
    "    'C.', 'N.', 'W.', 'L.', 'Z.',\n",
    "    'A.', 'A.', 'A.', 'A.'\n",
    "]\n",
    "\n",
    "countries = [\n",
    "    'Brazil', 'Portugal', 'Spain', 'China', 'Oman',\n",
    "    'Germany', 'India', 'Russia', 'Argentina', 'Mexico',\n",
    "    'Iran', 'Venezuela', 'Myanmar', 'Lebanon', 'North Korea'\n",
    "]\n",
    "\n",
    "age_range = (15, 75)\n",
    "\n",
    "# --- Generate clients ---\n",
    "n_clients = 150\n",
    "clients = []\n",
    "for i in range(1, n_clients + 1):\n",
    "    clients.append((\n",
    "        i,\n",
    "        random.choice(first_names),\n",
    "        random.choice(last_names),\n",
    "        random.randint(*age_range),\n",
    "        random.choice(countries)\n",
    "    ))\n",
    "\n",
    "clients_schema = StructType([\n",
    "    StructField(\"client_id\", IntegerType(), False),\n",
    "    StructField(\"first_name\", StringType(), False),\n",
    "    StructField(\"last_name\", StringType(), False),\n",
    "    StructField(\"date_birth\", DateType(), False),\n",
    "    StructField(\"residency_country\", StringType(), False)\n",
    "])\n",
    "\n",
    "clients_df = spark.createDataFrame(clients, schema=clients_schema)\n",
    "\n",
    "# Save as Delta table in Unity Catalog\n",
    "clients_df.write.mode(\"overwrite\").format(\"delta\").saveAsTable(f\"{catalog}.{schema}.clients\")\n",
    "\n",
    "import random\n",
    "from datetime import datetime, timedelta\n",
    "import decimal\n",
    "from pyspark.sql.types import StructType, StructField, IntegerType, DecimalType, DateType\n",
    "\n",
    "# --- Generate transactions ---\n",
    "n_transactions = 500\n",
    "transactions = []\n",
    "for i in range(1, n_transactions + 1):\n",
    "    client = random.choice(clients)\n",
    "    amount_value = random.uniform(10.0, 50000.0)\n",
    "    # converter para decimal.Decimal com 2 casas decimais\n",
    "    amount = decimal.Decimal(f\"{amount_value:.2f}\")\n",
    "    days_ago = random.randint(0, 365)\n",
    "    date = (datetime.now() - timedelta(days=days_ago)).date()\n",
    "\n",
    "    transactions.append((\n",
    "        i,\n",
    "        client[0],  # client_id\n",
    "        amount,\n",
    "        date  # passar como objeto date, não string\n",
    "    ))\n",
    "\n",
    "transactions_schema = StructType([\n",
    "    StructField(\"transaction_id\", IntegerType(), False),\n",
    "    StructField(\"client_id\", IntegerType(), False),\n",
    "    StructField(\"transaction_amount\", DecimalType(15,2), False),\n",
    "    StructField(\"transaction_date\", DateType(), False)\n",
    "])\n",
    "\n",
    "transactions_df = spark.createDataFrame(transactions, schema=transactions_schema)\n",
    "transactions_df.write.mode(\"overwrite\").format(\"delta\").saveAsTable(f\"{catalog}.{schema}.transactions\")\n",
    "\n",
    "# --- Generate high risk countries ---\n",
    "n_high_risk_countries = 10\n",
    "high_risk_sample = random.sample(countries, n_high_risk_countries)\n",
    "high_risk = [(c,) for c in high_risk_sample]\n",
    "\n",
    "high_risk_schema = StructType([\n",
    "    StructField(\"high_risk_country\", StringType(), False)\n",
    "])\n",
    "\n",
    "high_risk_df = spark.createDataFrame(high_risk, schema=high_risk_schema)\n",
    "high_risk_df.write.mode(\"overwrite\").format(\"delta\").saveAsTable(f\"{catalog}.{schema}.high_risk_countries\")\n",
    "\n",
    "print(\"Delta tables successfully created in Unity Catalog.\")\n"
   ]
  },
  {
   "cell_type": "code",
   "execution_count": 0,
   "metadata": {
    "application/vnd.databricks.v1+cell": {
     "cellMetadata": {
      "byteLimit": 2048000,
      "rowLimit": 10000
     },
     "inputWidgets": {},
     "nuid": "5a73bd3f-1b2b-4ca6-9944-ce74a936a2eb",
     "showTitle": false,
     "tableResultSettingsMap": {},
     "title": ""
    }
   },
   "outputs": [],
   "source": [
    "print(f\"Using catalog: {catalog}, schema: {schema}\")\n",
    "\n",
    "display(high_risk_df)\n",
    "print(high_risk_df.schema)"
   ]
  }
 ],
 "metadata": {
  "application/vnd.databricks.v1+notebook": {
   "computePreferences": null,
   "dashboards": [],
   "environmentMetadata": {
    "base_environment": "",
    "environment_version": "2"
   },
   "inputWidgetPreferences": null,
   "language": "python",
   "notebookMetadata": {
    "mostRecentlyExecutedCommandWithImplicitDF": {
     "commandId": -1,
     "dataframes": [
      "_sqldf"
     ]
    },
    "pythonIndentUnit": 4
   },
   "notebookName": "01_ingestion_raw_data",
   "widgets": {
    "catalog": {
     "currentValue": "governance_risk",
     "nuid": "98484bd0-2c9a-4625-99a8-9e3282767fef",
     "typedWidgetInfo": {
      "autoCreated": false,
      "defaultValue": "governance_risk",
      "label": null,
      "name": "catalog",
      "options": {
       "widgetDisplayType": "Text",
       "validationRegex": null
      },
      "parameterDataType": "String"
     },
     "widgetInfo": {
      "widgetType": "text",
      "defaultValue": "governance_risk",
      "label": null,
      "name": "catalog",
      "options": {
       "widgetType": "text",
       "autoCreated": null,
       "validationRegex": null
      }
     }
    },
    "schema": {
     "currentValue": "kyc_project",
     "nuid": "93372f5e-cfea-4eed-9eaf-046120b469a4",
     "typedWidgetInfo": {
      "autoCreated": false,
      "defaultValue": "kyc_project",
      "label": null,
      "name": "schema",
      "options": {
       "widgetDisplayType": "Text",
       "validationRegex": null
      },
      "parameterDataType": "String"
     },
     "widgetInfo": {
      "widgetType": "text",
      "defaultValue": "kyc_project",
      "label": null,
      "name": "schema",
      "options": {
       "widgetType": "text",
       "autoCreated": null,
       "validationRegex": null
      }
     }
    }
   }
  },
  "language_info": {
   "name": "python"
  }
 },
 "nbformat": 4,
 "nbformat_minor": 0
}
