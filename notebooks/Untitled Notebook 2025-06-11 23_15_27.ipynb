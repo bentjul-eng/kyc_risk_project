{
 "cells": [
  {
   "cell_type": "code",
   "execution_count": 0,
   "metadata": {
    "application/vnd.databricks.v1+cell": {
     "cellMetadata": {
      "byteLimit": 2048000,
      "rowLimit": 10000
     },
     "inputWidgets": {},
     "nuid": "4ed7d5a7-5576-40f0-804a-3a6d8e00ea12",
     "showTitle": false,
     "tableResultSettingsMap": {},
     "title": ""
    }
   },
   "outputs": [],
   "source": [
    "from pyspark.sql.types import StructType, StructField, IntegerType, StringType, FloatType\n",
    "from datetime import datetime, timedelta\n",
    "import random\n",
    "\n",
    "\n",
    "\n",
    "output_path = \"dbfs/Workspace/Users/jusoares_flor@hotmail.com/kyc_risk_project/data/csv_sources\"\n",
    "\n",
    "names = [\n",
    "    'Carlos L.', 'Sofia R.', 'Lucas M.', 'Isabela F.', 'Gabriel A.',\n",
    "    'Laura C.', 'Mateus G.', 'Júlia S.', 'Pedro R.', 'Beatriz S.',\n",
    "    'John S.', 'Maria G.', 'James J.', 'Patricia B.', 'Robert J.',\n",
    "    'Wei C.', 'Li N.', 'Jing W.', 'Yang L.', 'Wei Z.',\n",
    "    'Fatima A.', 'Mohammed A.', 'Ahmed A.', 'Aisha A.'\n",
    "]\n",
    "\n",
    "countries = [\n",
    "    'Brazil', 'Portugal', 'Spain', 'China', 'Oman',\n",
    "    'Germany', 'India', 'Russia', 'Argentina', 'Mexico',\n",
    "    'Iran', 'Venezuela', 'Myanmar', 'Lebanon', 'North Korea'\n",
    "]\n",
    "\n",
    "\n",
    "def generate_clients(spark, n_clients=150):\n",
    "    age_range = (15, 75)\n",
    "    clients = [\n",
    "        (i, random.choice(names), random.randint(*age_range), random.choice(countries))\n",
    "        for i in range(1, n_clients + 1)\n",
    "    ]\n",
    "\n",
    "    schema = StructType([\n",
    "        StructField(\"client_id\", IntegerType(), False),\n",
    "        StructField(\"name\", StringType(), False),\n",
    "        StructField(\"age\", IntegerType(), False),\n",
    "        StructField(\"country\", StringType(), False)\n",
    "    ])\n",
    "\n",
    "    return spark.createDataFrame(clients, schema=schema)\n",
    "\n",
    "\n",
    "def generate_transactions(spark, clients_df, n_transactions=500):\n",
    "    clients = clients_df.collect()\n",
    "    transactions = []\n",
    "\n",
    "    for i in range(1, n_transactions + 1):\n",
    "        client = random.choice(clients)\n",
    "        amount = round(random.uniform(10.0, 5000.0), 2)\n",
    "        date = (datetime.now() - timedelta(days=random.randint(0, 365))).date()\n",
    "        transactions.append((i, client[\"client_id\"], amount, date.isoformat()))\n",
    "\n",
    "    schema = StructType([\n",
    "        StructField(\"transaction_id\", IntegerType(), False),\n",
    "        StructField(\"client_id\", IntegerType(), False),\n",
    "        StructField(\"transaction_amount\", FloatType(), False),\n",
    "        StructField(\"transaction_date\", StringType(), False)\n",
    "    ])\n",
    "\n",
    "    return spark.createDataFrame(transactions, schema=schema)\n",
    "\n",
    "\n",
    "def generate_high_risk_countries(spark, n_high_risk_countries=10):\n",
    "    high_risk = [(c,) for c in random.sample(countries, n_high_risk_countries)]\n",
    "\n",
    "    schema = StructType([\n",
    "        StructField(\"country\", StringType(), False)\n",
    "    ])\n",
    "\n",
    "    return spark.createDataFrame(high_risk, schema=schema)\n",
    "\n",
    "print(\"Generating clients...\")\n",
    "clients_df = generate_clients(spark)\n",
    "print(clients_df)\n"
   ]
  },
  {
   "cell_type": "code",
   "execution_count": 0,
   "metadata": {
    "application/vnd.databricks.v1+cell": {
     "cellMetadata": {},
     "inputWidgets": {},
     "nuid": "54c6a8db-181b-4281-8fae-df9e077ddb4a",
     "showTitle": false,
     "tableResultSettingsMap": {},
     "title": ""
    }
   },
   "outputs": [],
   "source": [
    "\n",
    "def save_csv(df, sub_path):\n",
    "    (\n",
    "        df.coalesce(1)\n",
    "        .write\n",
    "        .mode(\"overwrite\")\n",
    "        .option(\"header\", True)\n",
    "        .csv(f\"{output_path}/{sub_path}\")\n",
    "    )"
   ]
  }
 ],
 "metadata": {
  "application/vnd.databricks.v1+notebook": {
   "computePreferences": null,
   "dashboards": [],
   "environmentMetadata": {
    "base_environment": "",
    "environment_version": "2"
   },
   "inputWidgetPreferences": null,
   "language": "python",
   "notebookMetadata": {
    "pythonIndentUnit": 4
   },
   "notebookName": "Untitled Notebook 2025-06-11 23_15_27",
   "widgets": {}
  },
  "language_info": {
   "name": "python"
  }
 },
 "nbformat": 4,
 "nbformat_minor": 0
}
