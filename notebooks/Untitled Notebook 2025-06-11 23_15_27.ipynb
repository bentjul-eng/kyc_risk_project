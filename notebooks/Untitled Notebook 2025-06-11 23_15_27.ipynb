{
 "cells": [
  {
   "cell_type": "code",
   "execution_count": 0,
   "metadata": {
    "application/vnd.databricks.v1+cell": {
     "cellMetadata": {
      "byteLimit": 2048000,
      "implicitDf": true,
      "rowLimit": 10000
     },
     "inputWidgets": {},
     "nuid": "4ed7d5a7-5576-40f0-804a-3a6d8e00ea12",
     "showTitle": false,
     "tableResultSettingsMap": {},
     "title": ""
    }
   },
   "outputs": [],
   "source": [
    "%sql\n",
    "-- Cria o banco de dados (se ainda não existir)\n",
    "CREATE DATABASE IF NOT EXISTS kyc_db\n",
    "LOCATION 'dbfs:/mnt/datalake/silver/kyc_risk_analysis';\n",
    "\n",
    "-- Registra a tabela Silver\n",
    "CREATE TABLE IF NOT EXISTS kyc_db.client_transactions_risk\n",
    "USING DELTA\n",
    "LOCATION 'dbfs:/mnt/datalake/silver/kyc_risk_analysis/client_transactions_risk';\n",
    "\n",
    "-- Registra a tabela Gold\n",
    "CREATE TABLE IF NOT EXISTS kyc_db.aggregated_client_risk\n",
    "USING DELTA\n",
    "LOCATION 'dbfs:/mnt/datalake/gold/kyc_risk_analysis/aggregated_client_risk';\n",
    "from pyspark.sql.types import StructType, StructField, IntegerType, StringType, FloatType\n",
    "from datetime import datetime, timedelta\n",
    "import random\n",
    "\n"
   ]
  },
  {
   "cell_type": "code",
   "execution_count": 0,
   "metadata": {
    "application/vnd.databricks.v1+cell": {
     "cellMetadata": {},
     "inputWidgets": {},
     "nuid": "54c6a8db-181b-4281-8fae-df9e077ddb4a",
     "showTitle": false,
     "tableResultSettingsMap": {},
     "title": ""
    }
   },
   "outputs": [],
   "source": [
    "\n",
    "def save_csv(df, sub_path):\n",
    "    (\n",
    "        df.coalesce(1)\n",
    "        .write\n",
    "        .mode(\"overwrite\")\n",
    "        .option(\"header\", True)\n",
    "        .csv(f\"{output_path}/{sub_path}\")\n",
    "    )"
   ]
  }
 ],
 "metadata": {
  "application/vnd.databricks.v1+notebook": {
   "computePreferences": null,
   "dashboards": [],
   "environmentMetadata": {
    "base_environment": "",
    "environment_version": "2"
   },
   "inputWidgetPreferences": null,
   "language": "python",
   "notebookMetadata": {
    "mostRecentlyExecutedCommandWithImplicitDF": {
     "commandId": 6838119636837848,
     "dataframes": [
      "_sqldf"
     ]
    },
    "pythonIndentUnit": 4
   },
   "notebookName": "Untitled Notebook 2025-06-11 23_15_27",
   "widgets": {}
  },
  "language_info": {
   "name": "python"
  }
 },
 "nbformat": 4,
 "nbformat_minor": 0
}
