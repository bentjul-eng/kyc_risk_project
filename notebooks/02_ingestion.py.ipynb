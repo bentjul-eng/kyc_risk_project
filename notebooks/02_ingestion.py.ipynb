{
 "cells": [
  {
   "cell_type": "code",
   "execution_count": 0,
   "metadata": {
    "application/vnd.databricks.v1+cell": {
     "cellMetadata": {
      "byteLimit": 2048000,
      "rowLimit": 10000
     },
     "inputWidgets": {},
     "nuid": "716be63e-305e-44aa-9f8e-385631f7776b",
     "showTitle": false,
     "tableResultSettingsMap": {},
     "title": ""
    }
   },
   "outputs": [],
   "source": [
    "import pandas as pd\n",
    "import random\n",
    "from datetime import datetime, timedelta\n",
    "\n",
    "# --- Parameters ---\n",
    "n_clients = 15\n",
    "n_transactions = 50\n",
    "n_high_risk_countries = 5\n",
    "\n",
    "# --- Database---\n",
    "names = [\n",
    "    'Carlos L.', 'Sofia R.', 'Lucas M.', 'Isabela F.', 'Gabriel A.',\n",
    "    'Laura C.', 'Mateus G.', 'Júlia S.', 'Pedro R.', 'Beatriz S.',\n",
    "    'John S.', 'Maria G.', 'James J.', 'Patricia B.', 'Robert J.'\n",
    "]\n",
    "\n",
    "countries = [\n",
    "    'Brazil', 'Portugal', 'Spain', 'China', 'Oman',\n",
    "    'Germany', 'India', 'Russia', 'Argentina', 'Mexico',\n",
    "    'Iran', 'Venezuela', 'Myanmar', 'Lebanon', 'North Korea'\n",
    "]\n",
    "\n",
    "age_range = (18, 75)\n",
    "\n",
    "# ---  Generate clients ---\n",
    "clients = []\n",
    "for i in range(1, n_clients + 1):\n",
    "    clients.append({\n",
    "        'client_id': i,\n",
    "        'name': random.choice(names),\n",
    "        'age': random.randint(*age_range),\n",
    "        'country': random.choice(countries)\n",
    "    })\n",
    "\n",
    "clients_df = pd.DataFrame(clients)\n",
    "#print(clients_df.head())\n",
    "\n",
    "# --- generate transactions ---\n",
    "transactions = []\n",
    "for i in range(1, n_transactions + 1):\n",
    "    client = random.choice(clients)\n",
    "    amount = round(random.uniform(10.0, 5000.0), 2)\n",
    "    days_ago = random.randint(0, 365)\n",
    "    date = (datetime.now() - timedelta(days=days_ago)).date()\n",
    "\n",
    "    transactions.append({\n",
    "        'transaction_id': i,\n",
    "        'client_id': client['client_id'],\n",
    "        'transaction_amount': amount,\n",
    "        'transaction_date': str(date)\n",
    "    })\n",
    "\n",
    "transactions_df = pd.DataFrame(transactions)\n",
    "#print(transactions_df.head())\n",
    "\n",
    "# --- 3. Gerar high_risk_countries ---\n",
    "high_risk_sample = random.sample(countries, n_high_risk_countries)\n",
    "high_risk_df = pd.DataFrame({'country_name': high_risk_sample})\n",
    "#print(high_risk_df.head())\n",
    "\n",
    "# --- 4. Converter para Spark DataFrames ---\n",
    "df_clients_spark = spark.createDataFrame(clients_df)\n",
    "df_transactions_spark = spark.createDataFrame(transactions_df)\n",
    "df_high_risk_spark = spark.createDataFrame(high_risk_df)\n",
    "\n",
    "# --- 5. Salvar como CSV no DBFS ---\n",
    "df_clients_spark.write.mode(\"overwrite\").option(\"header\", True).csv(\"/tmp/clients\")\n",
    "df_transactions_spark.write.mode(\"overwrite\").option(\"header\", True).csv(\"/tmp/transactions\")\n",
    "df_high_risk_spark.write.mode(\"overwrite\").option(\"header\", True).csv(\"/tmp/high_risk_countries\")\n"
   ]
  }
 ],
 "metadata": {
  "application/vnd.databricks.v1+notebook": {
   "computePreferences": null,
   "dashboards": [],
   "environmentMetadata": {
    "base_environment": "",
    "environment_version": "2"
   },
   "inputWidgetPreferences": null,
   "language": "python",
   "notebookMetadata": {
    "mostRecentlyExecutedCommandWithImplicitDF": {
     "commandId": -1,
     "dataframes": [
      "_sqldf"
     ]
    },
    "pythonIndentUnit": 4
   },
   "notebookName": "02_ingestion.py",
   "widgets": {}
  },
  "language_info": {
   "name": "python"
  }
 },
 "nbformat": 4,
 "nbformat_minor": 0
}
