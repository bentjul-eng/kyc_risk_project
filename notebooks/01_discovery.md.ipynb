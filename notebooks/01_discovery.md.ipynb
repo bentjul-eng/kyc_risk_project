{
 "cells": [
  {
   "cell_type": "markdown",
   "metadata": {
    "application/vnd.databricks.v1+cell": {
     "cellMetadata": {},
     "inputWidgets": {},
     "nuid": "d7ce26fa-235a-4bbe-8f8e-44022966ada2",
     "showTitle": false,
     "tableResultSettingsMap": {},
     "title": ""
    }
   },
   "source": [
    "# Discovery\n",
    "\n",
    "This document describes the initial design definitions for the simplified Know Your Client (KYC) solution, including source tables, end table, metadata, and typing decisions.\n",
    "\n",
    "---\n",
    "\n",
    "### Pipeline Objective\n",
    "\n",
    "Create a data pipeline for ingestion, transformation and processing of customer and transaction information, with a focus on risk.\n",
    "\n",
    "---\n",
    "\n",
    "### Source tables (CSV generated)\n",
    "\n",
    "#### 1. clients.csv – Costumer Information\n",
    "| Column      | Type     | Description                      |\n",
    "|-------------|----------|---------------------------------|\n",
    "| client_id   | INT      | Unique customer identifier  |\n",
    "| name        | STRING   | Full Name                   |\n",
    "| age         | INT      | Customer Age              |\n",
    "| country     | STRING   | Country of Residence             |\n",
    "\n",
    "---\n",
    "#### 2. transactions.csv – Transaction details\n",
    "| Column      | Type     | Description                                   |\n",
    "|------------------|------------|--------------------------------------------|\n",
    "| transaction_id    | INT        | Unique transaction ID |\n",
    "| client_id | INT | Foreign key referencing customer |\n",
    "| transaction_amount| FLOAT | Transaction value |\n",
    "| transaction_date | DATE | Transaction date |\n",
    "\n",
    "\n",
    "#### 3. high_risk_countries.csv - Countries names \n",
    "| Column      | Type     | Description                      |\n",
    "|-------------|----------|---------------------------------|\n",
    "| country_name   | STRING      | country name  |\n",
    "\n",
    "---\n",
    "\n",
    "### Derived Table: risk_events.csv\n",
    "\n",
    "This table will be generated during processing, based on business rules.\n",
    "\n",
    "#### Fields:\n",
    "| Column      | Type     | Description                                                                 |\n",
    "|--------------------|----------|--------------------------------------------------------------------------|\n",
    "| event_id | STRING | Unique Risk Event ID (UUID) |\n",
    "| client_id | INT | Key for customer |\n",
    "| risk_score | FLOAT | Calculated risk score |\n",
    "| trigger_reason | STRING | Alert reason(s) (e.g. \"High Amount\", \"High Risk Country\") |\n",
    "|evaluation_date| TIMESTAMP | Evaluation date |\n",
    "\n",
    "> *Partition field:* evaluation_date\n",
    "---\n",
    "\n",
    "### Final Table: client_risk_summary\n",
    "\n",
    "Aggregated table with risk per customer.\n",
    "\n",
    "| Column               | Type   | Description                                                                 |\n",
    "|--------------------|----------|--------------------------------------------------------------------------|\n",
    "| client_id | INT | Customer ID |\n",
    "| name | STRING | Customer name |\n",
    "| age | INT | Age |\n",
    "| country | STRING | Country |\n",
    "| total_transactions | INT | Total transactions carried out |\n",
    "| total_amount | FLOAT | Sum of transacted values ​​|\n",
    "| risk_score | FLOAT | Aggregated final score |\n",
    "| last_risk_event | TIMESTAMP| Date of last risk event |\n",
    "| evaluation_date | timestamp | partition key |\n",
    "\n",
    "---"
   ]
  }
 ],
 "metadata": {
  "application/vnd.databricks.v1+notebook": {
   "computePreferences": null,
   "dashboards": [],
   "environmentMetadata": {
    "base_environment": "",
    "environment_version": "2"
   },
   "inputWidgetPreferences": null,
   "language": "python",
   "notebookMetadata": {
    "pythonIndentUnit": 4
   },
   "notebookName": "01_discovery.md",
   "widgets": {}
  },
  "language_info": {
   "name": "python"
  }
 },
 "nbformat": 4,
 "nbformat_minor": 0
}
