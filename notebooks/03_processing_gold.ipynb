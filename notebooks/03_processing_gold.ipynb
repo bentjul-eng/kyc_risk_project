{
 "cells": [
  {
   "cell_type": "code",
   "execution_count": 0,
   "metadata": {
    "application/vnd.databricks.v1+cell": {
     "cellMetadata": {
      "byteLimit": 2048000,
      "rowLimit": 10000
     },
     "inputWidgets": {},
     "nuid": "10daa93c-b24e-4c94-bf59-9fa5afcb527b",
     "showTitle": false,
     "tableResultSettingsMap": {},
     "title": ""
    }
   },
   "outputs": [],
   "source": [
    "# Databricks notebook source\n",
    "# 03_orchestration_uc.py - KYC Gold Aggregation using Unity Catalog\n",
    "\n",
    "from pyspark.sql.functions import (\n",
    "    col,\n",
    "    when,\n",
    "    lit,\n",
    "    to_date,\n",
    "    concat_ws,\n",
    "    sum as _sum,\n",
    "    count,\n",
    "    max as _max\n",
    ")\n",
    "from pyspark.sql import SparkSession\n",
    "\n",
    "# -----------------------------------------------\n",
    "# Step 1: Define catalog and schema\n",
    "# -----------------------------------------------\n",
    "dbutils.widgets.text(\"catalog\", \"governance_risk\")\n",
    "dbutils.widgets.text(\"schema\", \"kyc_project\")\n",
    "catalog = dbutils.widgets.get(\"catalog\")\n",
    "schema = dbutils.widgets.get(\"schema\")\n",
    "\n",
    "# -----------------------------------------------\n",
    "# Step 2: Read Silver table from Unity Catalog\n",
    "# -----------------------------------------------\n",
    "silver_table = f\"{catalog}.{schema}.client_transactions_risk\"\n",
    "tables = [row.tableName for row in spark.sql(f\"SHOW TABLES IN {catalog}.{schema}\").collect()]\n",
    "if \"client_transactions_risk\" not in tables:\n",
    "    raise Exception(f\"Silver table '{silver_table}' not found. Run the processing notebook first.\")\n",
    "\n",
    "risk_df = spark.read.table(silver_table)\n",
    "\n",
    "# -----------------------------------------------\n",
    "# Step 3: Aggregate data\n",
    "# -----------------------------------------------\n",
    "def aggregate_by_client(risk_df):\n",
    "    aggr_df = (\n",
    "        risk_df.groupBy(\"client_id\")\n",
    "        .agg(\n",
    "            count(\"*\").alias(\"total_transactions\"),\n",
    "            _sum(\"transaction_amount\").alias(\"total_amount\"),\n",
    "            _sum(when(col(\"risk_flag\"), 1).otherwise(0)).alias(\"total_high_risk_transactions\"),\n",
    "            _max(\"risk_score\").alias(\"max_risk_score\"),\n",
    "            _max(\"is_high_risk_country\").alias(\"ever_high_risk_country\")\n",
    "        )\n",
    "        .withColumn(\"high_risk_ratio\", col(\"high_risk_transactions\") / col(\"total_transactions\"))\n",
    "    )\n",
    "    return aggr_df\n",
    "\n",
    "aggr_df = aggregate_by_client(risk_df)\n",
    "\n",
    "# -----------------------------------------------\n",
    "# Step 4: Write Gold table to Unity Catalog\n",
    "# -----------------------------------------------\n",
    "aggr_df.write.format(\"delta\") \\\n",
    "    .mode(\"overwrite\") \\\n",
    "    .saveAsTable(f\"{catalog}.{schema}.aggregated_client_risk\")\n",
    "\n",
    "print(\"✅ Aggregated Gold table 'aggregated_client_risk' successfully saved to Unity Catalog.\")\n",
    "\n",
    "# -----------------------------------------------\n",
    "#  display results\n",
    "# -----------------------------------------------\n",
    "display(aggr_df)\n"
   ]
  }
 ],
 "metadata": {
  "application/vnd.databricks.v1+notebook": {
   "computePreferences": null,
   "dashboards": [],
   "environmentMetadata": {
    "base_environment": "",
    "environment_version": "2"
   },
   "inputWidgetPreferences": null,
   "language": "python",
   "notebookMetadata": {
    "pythonIndentUnit": 4
   },
   "notebookName": "03_processing_gold",
   "widgets": {
    "catalog": {
     "currentValue": "governance_risk",
     "nuid": "61ebf6dc-09cc-44ee-a68a-b002a9d6c400",
     "typedWidgetInfo": {
      "autoCreated": false,
      "defaultValue": "governance_risk",
      "label": null,
      "name": "catalog",
      "options": {
       "widgetDisplayType": "Text",
       "validationRegex": null
      },
      "parameterDataType": "String"
     },
     "widgetInfo": {
      "widgetType": "text",
      "defaultValue": "governance_risk",
      "label": null,
      "name": "catalog",
      "options": {
       "widgetType": "text",
       "autoCreated": null,
       "validationRegex": null
      }
     }
    },
    "schema": {
     "currentValue": "kyc_project",
     "nuid": "d6e66811-4e73-426f-9717-d3c1fb39bad5",
     "typedWidgetInfo": {
      "autoCreated": false,
      "defaultValue": "kyc_project",
      "label": null,
      "name": "schema",
      "options": {
       "widgetDisplayType": "Text",
       "validationRegex": null
      },
      "parameterDataType": "String"
     },
     "widgetInfo": {
      "widgetType": "text",
      "defaultValue": "kyc_project",
      "label": null,
      "name": "schema",
      "options": {
       "widgetType": "text",
       "autoCreated": null,
       "validationRegex": null
      }
     }
    }
   }
  },
  "language_info": {
   "name": "python"
  }
 },
 "nbformat": 4,
 "nbformat_minor": 0
}
