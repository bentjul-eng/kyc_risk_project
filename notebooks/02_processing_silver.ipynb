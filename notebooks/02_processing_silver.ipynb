{
 "cells": [
  {
   "cell_type": "code",
   "execution_count": 0,
   "metadata": {
    "application/vnd.databricks.v1+cell": {
     "cellMetadata": {
      "byteLimit": 2048000,
      "rowLimit": 10000
     },
     "inputWidgets": {},
     "nuid": "3210a90b-945d-47ae-ad66-f3b9b067ad6b",
     "showTitle": false,
     "tableResultSettingsMap": {},
     "title": ""
    }
   },
   "outputs": [],
   "source": [
    "# Databricks notebook source\n",
    "# 02_processing_uc.py - KYC Risk Processing with Unity Catalog\n",
    "\n",
    "from pyspark.sql.functions import (\n",
    "    col,\n",
    "    when,\n",
    "    lit,\n",
    "    to_date,\n",
    "    concat_ws,\n",
    "    sum as _sum,\n",
    "    count,\n",
    "    max as _max\n",
    ")\n",
    "from pyspark.sql import SparkSession\n",
    "\n",
    "# -----------------------------------------------\n",
    "# Step 1: Parametrize catalog, schema and eval time\n",
    "# -----------------------------------------------\n",
    "dbutils.widgets.text(\"catalog\", \"governance_risk\")\n",
    "dbutils.widgets.text(\"schema\", \"kyc_project\")\n",
    "dbutils.widgets.text(\"evaluation_timestamp\", \"2025-06-10 12:00:00\")\n",
    "\n",
    "catalog = dbutils.widgets.get(\"catalog\")\n",
    "schema = dbutils.widgets.get(\"schema\")\n",
    "evaluation_timestamp = dbutils.widgets.get(\"evaluation_timestamp\")\n",
    "\n",
    "# -----------------------------------------------\n",
    "# Step 2: Validate and set catalog/schema context\n",
    "# -----------------------------------------------\n",
    "catalogs = [row.catalog for row in spark.sql(\"SHOW CATALOGS\").collect()]\n",
    "if catalog not in catalogs:\n",
    "    raise Exception(f\"Catalog '{catalog}' not found. Please create it in the Unity Catalog UI.\")\n",
    "\n",
    "spark.sql(f\"USE CATALOG {catalog}\")\n",
    "spark.sql(f\"CREATE SCHEMA IF NOT EXISTS {catalog}.{schema}\")\n",
    "spark.sql(f\"USE SCHEMA {schema}\")\n",
    "\n",
    "# -----------------------------------------------\n",
    "# Step 3: Load Delta tables from Unity Catalog (Bronze layer)\n",
    "# -----------------------------------------------\n",
    "clients_df = spark.read.table(f\"{catalog}.{schema}.clients\")\n",
    "transactions_df = spark.read.table(f\"{catalog}.{schema}.transactions\")\n",
    "high_risk_countries_df = spark.read.table(f\"{catalog}.{schema}.high_risk_countries\")\n",
    "\n",
    "# -----------------------------------------------\n",
    "# Step 4: Risk enrichment\n",
    "# -----------------------------------------------\n",
    "def enrich_risk(clients_df, transactions_df, high_risk_countries_df, evaluation_timestamp):\n",
    "    joined_df = (\n",
    "        transactions_df.alias(\"t\")\n",
    "        .join(clients_df.alias(\"c\"), on=\"client_id\", how=\"inner\")\n",
    "        .join(\n",
    "            high_risk_countries_df.alias(\"h\").withColumnRenamed(\"residency_country\", \"high_risk_country\"),\n",
    "            col(\"c.residency_country\") == col(\"h.high_risk_country\"),\n",
    "            how=\"left\"\n",
    "        )\n",
    "        .withColumn(\"is_high_risk_country\", col(\"h.high_risk_country\").isNotNull())\n",
    "    )\n",
    "\n",
    "    risk_df = (\n",
    "        joined_df\n",
    "        .withColumn(\"is_high_value_transaction\", when(col(\"transaction_amount\") > 10000.00, lit(True)).otherwise(lit(False)))\n",
    "        .withColumn(\n",
    "            \"risk_score\",\n",
    "            col(\"is_high_risk_country\").cast(\"int\") * 1 +\n",
    "            col(\"is_high_value_transaction\").cast(\"int\") * 1.5 \n",
    "        )\n",
    "        .withColumn(\"risk_flag\", when(col(\"risk_score\") >= 2, lit(True)).otherwise(lit(False)))\n",
    "        .withColumn(\"evaluation_timestamp\", lit(evaluation_timestamp).cast(\"timestamp\"))\n",
    "        .withColumn(\"evaluation_date\", to_date(col(\"evaluation_timestamp\")))\n",
    "        .withColumn(\"event_id\", concat_ws(\"_\", col(\"client_id\"), col(\"transaction_id\")))\n",
    "    )\n",
    "\n",
    "    return risk_df\n",
    "\n",
    "# -----------------------------------------------\n",
    "# Step 5: Process and save Silver table to Unity Catalog\n",
    "# -----------------------------------------------\n",
    "risk_df = enrich_risk(clients_df, transactions_df, high_risk_countries_df, evaluation_timestamp)\n",
    "\n",
    "risk_df.write.format(\"delta\") \\\n",
    "    .mode(\"overwrite\") \\\n",
    "    .option(\"overwriteSchema\", \"true\") \\\n",
    "    .partitionBy(\"evaluation_date\") \\\n",
    "    .saveAsTable(f\"{catalog}.{schema}.client_transactions_risk\")\n",
    "\n",
    "print(\"✅ Silver table 'client_transactions_risk' successfully written to Unity Catalog.\")\n"
   ]
  },
  {
   "cell_type": "code",
   "execution_count": 0,
   "metadata": {
    "application/vnd.databricks.v1+cell": {
     "cellMetadata": {
      "byteLimit": 2048000,
      "rowLimit": 10000
     },
     "inputWidgets": {},
     "nuid": "2463d9ce-644f-4043-9bfe-3f5465326676",
     "showTitle": false,
     "tableResultSettingsMap": {},
     "title": ""
    }
   },
   "outputs": [],
   "source": [
    "display(risk_df)"
   ]
  }
 ],
 "metadata": {
  "application/vnd.databricks.v1+notebook": {
   "computePreferences": null,
   "dashboards": [],
   "environmentMetadata": {
    "base_environment": "",
    "environment_version": "2"
   },
   "inputWidgetPreferences": null,
   "language": "python",
   "notebookMetadata": {
    "pythonIndentUnit": 4
   },
   "notebookName": "02_processing_silver",
   "widgets": {
    "catalog": {
     "currentValue": "governance_risk",
     "nuid": "256eb1b1-9693-4edd-8ff5-55a24a988e4d",
     "typedWidgetInfo": {
      "autoCreated": false,
      "defaultValue": "governance_risk",
      "label": null,
      "name": "catalog",
      "options": {
       "widgetDisplayType": "Text",
       "validationRegex": null
      },
      "parameterDataType": "String"
     },
     "widgetInfo": {
      "widgetType": "text",
      "defaultValue": "governance_risk",
      "label": null,
      "name": "catalog",
      "options": {
       "widgetType": "text",
       "autoCreated": null,
       "validationRegex": null
      }
     }
    },
    "evaluation_timestamp": {
     "currentValue": "2025-06-10 12:00:00",
     "nuid": "20e2eeda-aa08-46e3-b237-8c7ff4581547",
     "typedWidgetInfo": {
      "autoCreated": false,
      "defaultValue": "2025-06-10 12:00:00",
      "label": null,
      "name": "evaluation_timestamp",
      "options": {
       "widgetDisplayType": "Text",
       "validationRegex": null
      },
      "parameterDataType": "String"
     },
     "widgetInfo": {
      "widgetType": "text",
      "defaultValue": "2025-06-10 12:00:00",
      "label": null,
      "name": "evaluation_timestamp",
      "options": {
       "widgetType": "text",
       "autoCreated": null,
       "validationRegex": null
      }
     }
    },
    "schema": {
     "currentValue": "kyc_project",
     "nuid": "72a22957-c47e-4eb8-ac10-8ab025f046b0",
     "typedWidgetInfo": {
      "autoCreated": false,
      "defaultValue": "kyc_project",
      "label": null,
      "name": "schema",
      "options": {
       "widgetDisplayType": "Text",
       "validationRegex": null
      },
      "parameterDataType": "String"
     },
     "widgetInfo": {
      "widgetType": "text",
      "defaultValue": "kyc_project",
      "label": null,
      "name": "schema",
      "options": {
       "widgetType": "text",
       "autoCreated": null,
       "validationRegex": null
      }
     }
    }
   }
  },
  "language_info": {
   "name": "python"
  }
 },
 "nbformat": 4,
 "nbformat_minor": 0
}
